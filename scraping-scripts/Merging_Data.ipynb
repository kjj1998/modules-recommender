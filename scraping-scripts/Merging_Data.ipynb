{
 "cells": [
  {
   "cell_type": "code",
   "execution_count": 1,
   "id": "9c654c2e",
   "metadata": {},
   "outputs": [],
   "source": [
    "import re\n",
    "import os\n",
    "\n",
    "import pandas as pd"
   ]
  },
  {
   "cell_type": "code",
   "execution_count": 2,
   "id": "7187dcbe",
   "metadata": {},
   "outputs": [],
   "source": [
    "course_code_to_faculties = {\n",
    "    'GC':'Asian School of the Environment', 'HW':'Language and Communication Centre', 'HY':'School of Humanities', \n",
    "    'LS':'Centre for Modern Languages', 'SP':'University Scholars Programme', 'AB':'Nanyang Business School', \n",
    "    'AC':'Nanyang Business School', 'BE':'Nanyang Business School', 'CC':'Interdisciplinary Collaborative Core', \n",
    "    'HE':'School of Social Sciences', 'ML':'Interdisciplinary Collaborative Core', 'ET':'NTUpreneur', \n",
    "    'DD':'School Of Art, Design and Media', 'DN':'School Of Art, Design and Media', 'HS':'School of Social Sciences', \n",
    "    'DF':'School Of Art, Design and Media', 'DP':'School Of Art, Design and Media', 'DT':'School Of Art, Design and Media', \n",
    "    'DV':'School Of Art, Design and Media', 'HR':'School of Humanities', 'CB':'School of Chemistry, Chemical Engineering and Biotechnology', \n",
    "    'CZ':'School of Computer Science and Engineering', 'EE':'School of Electrical and Electronic Engineering', \n",
    "    'EG':'College of Engineering', 'MA':'School of Mechanical and Aerospace Engineering', \n",
    "    'MH':'School of Physical and Mathematical Sciences', 'MS':'School of Materials Science and Engineering', \n",
    "    'PH':'School of Physical and Mathematical Sciences', 'BG':'School of Chemistry, Chemical Engineering and Biotechnology', \n",
    "    'BS':'School of Biological Sciences', 'CH':'School of Chemistry, Chemical Engineering and Biotechnology', \n",
    "    'ES':'Asian School of the Environment', 'AD':'Nanyang Business School', 'CE':'School of Computer Science and Engineering', \n",
    "    'CV':'School of Civil and Environmental Engineering', 'EN':'School of Civil and Environmental Engineering', \n",
    "    'CM':'School of Chemistry, Chemical Engineering and Biotechnology', 'PS':'School of Physical and Mathematical Sciences', \n",
    "    'HC':'School of Humanities', 'HG':'School of Humanities', 'HL':'School of Humanities', 'HP':'School of Social Sciences', \n",
    "    'CS':'Wee Kim Wee School of Communication and Information', 'FL':'Wee Kim Wee School of Communication and Information', \n",
    "    'HA':'School of Social Sciences', 'MT':'School of Civil and Environmental Engineering', 'DM':'School Of Art, Design and Media',\n",
    "    'DR':'School Of Art, Design and Media', 'BA':'Nanyang Business School', 'BH':'Nanyang Business School', 'BL':'Nanyang Business School', \n",
    "    'BF':'Nanyang Business School', 'BC':'Nanyang Business School', 'BT':'Nanyang Business School', 'BR':'Nanyang Business School', \n",
    "    'BU':'Nanyang Business School', 'BM':'Nanyang Business School',\n",
    "    'SC':'School of Computer Science and Engineering', 'IE':'School of Electrical and Electronic Engineering', 'DA':'School Of Art, Design and Media', \n",
    "    'HH':'School of Humanities', 'FE':'College of Engineering', 'IM':'School of Electrical and Electronic Engineering', \n",
    "    'RE':'Renaissance Engineering Programme', 'HF':'School of Humanities', 'HZ':'School of Humanities', 'MD':'Lee Kong Chian School of Medicine',\n",
    "    'EM':'School of Civil and Environmental Engineering', 'HT':'School of Humanities', 'HQ':'School of Humanities', \n",
    "    'HU':'School of Social Sciences', 'LA':'Centre for Modern Languages', 'LF':'Centre for Modern Languages', \n",
    "    'LG':'Centre for Modern Languages', 'LJ':'Centre for Modern Languages', 'LK':'Centre for Modern Languages',\n",
    "    'LM':'Centre for Modern Languages', 'LR':'Centre for Modern Languages', 'LT':'Centre for Modern Languages', \n",
    "    'LI':'Centre for Modern Languages', 'LL':'Centre for Modern Languages', 'LV':'Centre for Modern Languages', \n",
    "    'LX':'Centre for Modern Languages', 'LH':'Centre for Modern Languages', 'SS':'National Institute of Education', \n",
    "    'SU':'School of Civil and Environmental Engineering', 'CY':'CN Yang Scholars Programme', \n",
    "    'HN':'School of Social Sciences', 'HJ':'School of Social Sciences'\n",
    "}"
   ]
  },
  {
   "cell_type": "code",
   "execution_count": 3,
   "id": "0e917189",
   "metadata": {},
   "outputs": [],
   "source": [
    "course_code_to_disciplines = {\n",
    "    'GC':'Environment Earth Systems', 'HW':'Language and Communication', 'HY':'Philosophy', \n",
    "    'LS':'Languages', 'SP':'University Scholars Programme', 'AB':'Business/Accountancy', 'AC':'Business/Accountancy', \n",
    "    'BE':'Business/Accountancy', 'CC':'Interdisciplinary Collaborative Core', 'HE':'Economics',\n",
    "    'ML':'Interdisciplinary Collaborative Core', 'ET':'Entrepreneurship', 'DD':'Interdisciplinary ', 'DN':'Art, Design and Media', \n",
    "    'HS':'Sociology', 'DF':'Art, Design and Media', 'DP':'Art, Design and Media', 'DT':'Art, Design and Media', 'DV':'Art, Design and Media',\n",
    "    'HR':'History', 'CB':'Chemistry, Chemical Engineering and Biotechnology', 'CZ':'Computing', 'EE':'Electrical Engineering', \n",
    "    'EG':'Engineering', 'MA':'Mechanical/Aerospace Engineering', 'MH':'Mathematics', 'MS':'Materials Science', 'PH':'Physics',\n",
    "    'BG':'Chemistry, Chemical Engineering and Biotechnology', 'BS':'Biological Science', 'CH':'Chemistry, Chemical Engineering and Biotechnology', \n",
    "    'ES':'Environment Earth Systems', 'AD':'Business/Accountancy', 'CE':'Computing', 'CV':'Civil/Environmental Engineering', \n",
    "    'EN':'Civil/Environmental Engineering', 'CM':'Chemistry, Chemical Engineering and Biotechnology',\n",
    "    'PS':'Physical and Mathematical Sciences', 'HC':'Chinese', 'HG':'Linguistics', 'HL':'English Literature', 'HP':'Psychology', \n",
    "    'CS':'Communication Studies', 'FL':'Communication Studies', 'HA':'Public Policy and Global Affairs', 'MT':'Maritime Studies', 'DM':'Art, Design and Media',\n",
    "    'DR':'Art, Design and Media', 'BA':'Business/Accountancy', 'BH':'Business/Accountancy', 'BL':'Business/Accountancy', \n",
    "    'BF':'Business/Accountancy', 'BC':'Business/Accountancy', 'BT':'Business/Accountancy', 'BR':'Business/Accountancy', \n",
    "    'BU':'Business/Accountancy', 'BM':'Business/Accountancy', 'SC':'Computing', 'IE':'Electrical Engineering', \n",
    "    'DA':'Art, Design and Media', 'HH':'History', 'FE':'Engineering', 'IM':'Electrical Engineering', 'RE':'Renaissance Engineering', \n",
    "    'HF':'Chinese', 'HZ':'English Literature', 'MD':'Medicine', 'EM':'Civil/Environmental Engineering', 'HT':'Chinese', \n",
    "    'HQ':'English Literature', 'HU':'Geography', 'LA':'Languages', 'LF':'Languages', 'LG':'Languages', 'LJ':'Languages', \n",
    "    'LK':'Languages', 'LM':'Languages', 'LR':'Languages', 'LT':'Languages', 'LI':'Languages', 'LL':'Languages', \n",
    "    'LV':'Languages', 'LX':'Languages', 'LH':'Languages', 'SS':'Sport Science & Management', \n",
    "    'SU':'Civil/Environmental Engineering', 'CY':'CN Yang Scholars Programme', 'HN':'Social Science', 'HJ':'Social Science'\n",
    "}"
   ]
  },
  {
   "cell_type": "code",
   "execution_count": 4,
   "id": "c00c3cf4",
   "metadata": {},
   "outputs": [],
   "source": [
    "def parse_prerequisites(prerequisites):\n",
    "    match_for_course_code_pattern_1 = re.search(r'\\b[A-Z]{2}\\d{4}\\b', prerequisites)\n",
    "    match_for_course_code_pattern_2 = re.search(r'\\b[A-Z]{3}\\d{2}[A-Z]{1}\\b', prerequisites)\n",
    "    \n",
    "    if prerequisites != '' and (match_for_course_code_pattern_1 or match_for_course_code_pattern_2):\n",
    "        prereqs_split = re.split(r'(?<![a-zA-Z])OR(?![a-zA-Z])|(?<![a-zA-Z])or(?![a-zA-Z])', prerequisites)\n",
    "\n",
    "        list_of_prereqs = []\n",
    "    \n",
    "        for elem in prereqs_split:\n",
    "            elem_split = elem.split('&')\n",
    "            \n",
    "            elem_split = [x.strip() for x in elem_split]\n",
    "            \n",
    "            new_list = []\n",
    "            \n",
    "            for x in elem_split:\n",
    "                if (x.find('Corequisite') != -1):\n",
    "                    return\n",
    "                elif (re.search(r'\\b[A-Z]{2}\\d{4}\\b', x)):\n",
    "                    results = re.findall(r'\\b[A-Z]{2}\\d{4}\\b', x)\n",
    "                    new_list.append(results[0])                    \n",
    "                elif (re.search(r'\\b[A-Z]{3}\\d{2}[A-Z]{1}\\b', x)):\n",
    "                    results = re.findall(r'\\b[A-Z]{3}\\d{2}[A-Z]{1}\\b', x)\n",
    "                    new_list.append(results[0])\n",
    "                elif (re.search(r'\\b[A-Z]{3}\\d{3}\\b', x)):\n",
    "                    results = re.findall(r'\\b[A-Z]{3}\\d{3}\\b', x)\n",
    "                    new_list.append(results[0])\n",
    "            \n",
    "            if (len(new_list) > 0):\n",
    "                list_of_prereqs.append(new_list)\n",
    "    \n",
    "        return list_of_prereqs"
   ]
  },
  {
   "cell_type": "code",
   "execution_count": 5,
   "id": "5d542be6",
   "metadata": {},
   "outputs": [],
   "source": [
    "def assign_faculty(course_code_to_faculties, course_code):\n",
    "    match_for_course_code_pattern_1 = re.search(r'\\b[A-Z]{2}\\d{4}\\b', course_code)\n",
    "    match_for_course_code_pattern_2 = re.search(r'\\b[A-Z]{3}\\d{2}[A-Z]{1}\\b', course_code)\n",
    "    \n",
    "    try:\n",
    "        if (match_for_course_code_pattern_1):\n",
    "            return course_code_to_faculties[course_code[0:2]]\n",
    "\n",
    "        if (match_for_course_code_pattern_2):\n",
    "            return 'National Institute of Education'\n",
    "    except Exception:\n",
    "        print(course_code)"
   ]
  },
  {
   "cell_type": "code",
   "execution_count": 6,
   "id": "52d22f7f",
   "metadata": {},
   "outputs": [],
   "source": [
    "def assign_discipline(course_code_to_disciplines, course_code):\n",
    "    match_for_course_code_pattern_1 = re.search(r'\\b[A-Z]{2}\\d{4}\\b', course_code)\n",
    "    match_for_course_code_pattern_2 = re.search(r'\\b[A-Z]{3}\\d{2}[A-Z]{1}\\b', course_code)\n",
    "    \n",
    "    try:\n",
    "        if (match_for_course_code_pattern_1):\n",
    "            return course_code_to_disciplines[course_code[0:2]]\n",
    "\n",
    "        if (match_for_course_code_pattern_2):\n",
    "            return 'National Institute of Education'\n",
    "    except Exception:\n",
    "        print(course_code)"
   ]
  },
  {
   "cell_type": "code",
   "execution_count": 7,
   "id": "17b7265f",
   "metadata": {},
   "outputs": [],
   "source": [
    "def parse_mutually_exclusives(mutually_exclusives):\n",
    "    if mutually_exclusives == '':\n",
    "        return\n",
    "\n",
    "    list_of_mutually_exclusives = []\n",
    "    \n",
    "    split = mutually_exclusives.split(',');\n",
    "    \n",
    "    for x in split:\n",
    "        x.strip()\n",
    "        list_of_mutually_exclusives.append(x)\n",
    "        \n",
    "    return list_of_mutually_exclusives"
   ]
  },
  {
   "cell_type": "code",
   "execution_count": 8,
   "id": "dab2a703",
   "metadata": {},
   "outputs": [],
   "source": [
    "def process_data(modules_df):  \n",
    "    modules_df.fillna('', inplace=True)\n",
    "    modules_df.drop_duplicates(subset=['Course Code'], inplace=True)\n",
    "    modules_df.replace(regex=r'([0-9]{0,1}.[0-9]{1})\\sAU', value=r'\\1', inplace=True)\n",
    "    \n",
    "    modules_df['Academic Units'] = pd.to_numeric(modules_df['Academic Units'])\n",
    "    modules_df['Academic Units'] = modules_df['Academic Units'].fillna(0)\n",
    "    modules_df = modules_df.astype({'Academic Units' : 'int64'})\n",
    "    modules_df.reset_index(inplace=True, drop=True)\n",
    "    \n",
    "    modules_df['Prerequisites'] = modules_df['Prerequisites'].map(lambda x: parse_prerequisites(x))\n",
    "    modules_df['Faculty'] = modules_df['Course Code'].map(lambda x: assign_faculty(course_code_to_faculties, x))\n",
    "    modules_df['Discipline'] = modules_df['Course Code'].map(lambda x: assign_discipline(course_code_to_disciplines, x))\n",
    "    modules_df['Mutually Exclusive'] = modules_df['Mutually Exclusive'].map(lambda x: parse_mutually_exclusives(x))\n",
    "    \n",
    "    return modules_df"
   ]
  },
  {
   "cell_type": "code",
   "execution_count": 9,
   "id": "0f07d6ef",
   "metadata": {},
   "outputs": [],
   "source": [
    "def merge_all_modules(modules1, modules2, *argv):\n",
    "    list_of_modules_to_merge = [modules1, modules2]\n",
    "    \n",
    "    for m in argv:\n",
    "        list_of_modules_to_merge.append(m)\n",
    "        \n",
    "    merged_modules = pd.concat(list_of_modules_to_merge)\n",
    "    merged_modules.drop_duplicates(subset=['Course Code'], inplace=True)\n",
    "    merged_modules = merged_modules[merged_modules['Course Code'] != '']\n",
    "    merged_modules.reset_index(inplace=True, drop=True)\n",
    "    \n",
    "    return merged_modules"
   ]
  },
  {
   "cell_type": "code",
   "execution_count": 10,
   "id": "a5def80a",
   "metadata": {},
   "outputs": [],
   "source": [
    "sem1_single_degree_modules = pd.read_csv('scraped-data/sem_1_single_degree_modules.csv', index_col=0)\n",
    "sem1_double_degree_modules = pd.read_csv('scraped-data/sem_1_double_degree_modules.csv', index_col=0)\n",
    "sem1_rest_of_the_modules = pd.read_csv('scraped-data/sem_1_rest_of_the_modules.csv', index_col=0)"
   ]
  },
  {
   "cell_type": "code",
   "execution_count": 11,
   "id": "c1f79d6a",
   "metadata": {},
   "outputs": [],
   "source": [
    "sem1_single_degree_modules_processed = process_data(sem1_single_degree_modules)\n",
    "sem1_double_degree_modules_processed = process_data(sem1_double_degree_modules)\n",
    "sem1_rest_of_the_modules_processed = process_data(sem1_rest_of_the_modules)"
   ]
  },
  {
   "cell_type": "code",
   "execution_count": 12,
   "id": "9e3fde1d",
   "metadata": {},
   "outputs": [],
   "source": [
    "sem2_single_degree_modules = pd.read_csv('scraped-data/sem_2_single_degree_modules.csv', index_col=0)\n",
    "sem2_double_degree_modules = pd.read_csv('scraped-data/sem_2_double_degree_modules.csv', index_col=0)\n",
    "sem2_rest_of_the_modules = pd.read_csv('scraped-data/sem_2_rest_of_the_modules.csv', index_col=0)"
   ]
  },
  {
   "cell_type": "code",
   "execution_count": 13,
   "id": "0ad76f07",
   "metadata": {},
   "outputs": [],
   "source": [
    "sem2_single_degree_modules_processed = process_data(sem2_single_degree_modules)\n",
    "sem2_double_degree_modules_processed = process_data(sem2_double_degree_modules)\n",
    "sem2_rest_of_the_modules_processed = process_data(sem2_rest_of_the_modules)"
   ]
  },
  {
   "cell_type": "code",
   "execution_count": 14,
   "id": "8f17470a",
   "metadata": {},
   "outputs": [],
   "source": [
    "sem1_merged_modules = merge_all_modules(sem1_single_degree_modules_processed, sem1_double_degree_modules_processed, sem1_rest_of_the_modules_processed)"
   ]
  },
  {
   "cell_type": "code",
   "execution_count": 15,
   "id": "1cb35f60",
   "metadata": {},
   "outputs": [],
   "source": [
    "sem2_merged_modules = merge_all_modules(sem2_single_degree_modules_processed, sem2_double_degree_modules_processed, sem2_rest_of_the_modules_processed)"
   ]
  },
  {
   "cell_type": "code",
   "execution_count": 16,
   "id": "b3912040",
   "metadata": {},
   "outputs": [],
   "source": [
    "all_merged_modules = merge_all_modules(sem1_merged_modules, sem2_merged_modules)"
   ]
  },
  {
   "cell_type": "code",
   "execution_count": null,
   "id": "d18fbfd9",
   "metadata": {},
   "outputs": [],
   "source": []
  },
  {
   "cell_type": "code",
   "execution_count": 17,
   "id": "1697dc90",
   "metadata": {},
   "outputs": [],
   "source": [
    "all_merged_modules.to_csv(os.path.join(os.getcwd(), \"scraped-data/all_modules.csv\"), index=False)"
   ]
  }
 ],
 "metadata": {
  "kernelspec": {
   "display_name": "Python 3 (ipykernel)",
   "language": "python",
   "name": "python3"
  },
  "language_info": {
   "codemirror_mode": {
    "name": "ipython",
    "version": 3
   },
   "file_extension": ".py",
   "mimetype": "text/x-python",
   "name": "python",
   "nbconvert_exporter": "python",
   "pygments_lexer": "ipython3",
   "version": "3.9.13"
  }
 },
 "nbformat": 4,
 "nbformat_minor": 5
}
